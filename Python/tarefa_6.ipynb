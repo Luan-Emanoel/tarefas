{
  "nbformat": 4,
  "nbformat_minor": 0,
  "metadata": {
    "colab": {
      "provenance": []
    },
    "kernelspec": {
      "name": "python3",
      "display_name": "Python 3"
    }
  },
  "cells": [
    {
      "cell_type": "code",
      "metadata": {
        "colab": {
          "base_uri": "https://localhost:8080/"
        },
        "id": "wVbIOI5CbZ_u",
        "outputId": "a3ee6f05-bca0-4df4-e7ed-93f29f1d6db6"
      },
      "source": [
        "def f_recursivo(n, resultados):\n",
        "  if n < 0:\n",
        "    return [resultados]\n",
        "  else:\n",
        "    resultados.append((n + (n**2 + 4) ** 0.5) /2)\n",
        "    return f_recursivo(n - 1, resultados)\n",
        "pegar_numero = int(input(\"digite o numero maximo para o calculo: \"))\n",
        "resultado = []\n",
        "print(\"os resultados do calculo são: \")\n",
        "for i in f_recursivo(pegar_numero, resultado):\n",
        "  for i in resultado:\n",
        "    print(i)"
      ],
      "execution_count": null,
      "outputs": [
        {
          "output_type": "stream",
          "text": [
            "digite o numero maximo para o calculo: 10\n",
            "os resultados do calculo são: \n",
            "10.099019513592784\n",
            "9.109772228646444\n",
            "8.123105625617661\n",
            "7.140054944640259\n",
            "6.16227766016838\n",
            "5.192582403567252\n",
            "4.23606797749979\n",
            "3.302775637731995\n",
            "2.414213562373095\n",
            "1.618033988749895\n",
            "1.0\n"
          ],
          "name": "stdout"
        }
      ]
    }
  ]
}