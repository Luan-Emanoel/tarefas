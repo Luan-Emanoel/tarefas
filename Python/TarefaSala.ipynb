{
  "nbformat": 4,
  "nbformat_minor": 0,
  "metadata": {
    "colab": {
      "provenance": []
    },
    "kernelspec": {
      "name": "python3",
      "display_name": "Python 3"
    }
  },
  "cells": [
    {
      "cell_type": "code",
      "metadata": {
        "id": "QuvVCWDYCeDd",
        "outputId": "f52065ab-946f-44a4-8eb1-2b47a63d504b",
        "colab": {
          "base_uri": "https://localhost:8080/",
          "height": 508
        }
      },
      "source": [
        "dados = [\n",
        "   \"Bacteria, Penicillin, Streptomycin, Neomycin, Gram\\n\",\n",
        "   \"Mycobacterium tuberculosis,800,5,2,negativeSalmonella schottmuelleri,10,0.8,0.09,negative\\n\",\n",
        "   \"Proteus vulgaris,3,0.1,0.1,negativeKlebsiella pneumoniae,850,1.2,1,negative\\n\",\n",
        "   \"Brucella abortus,1,2,0.02,negativePseudomonas aeruginosa,850,2,0.4,negative\\n\",\n",
        "   \"Escherichia coli,100,0.4,0.1,negative\\n\",\n",
        "   \"Salmonella (Eberthella) typhosa,1,0.4,0.008,negative\\n\",\n",
        "   \"Aerobacter aerogenes,870,1,1.6,negative\\n\",\n",
        "   \"Brucella antracis,0.001,0.01,0.007,positive\\n\",\n",
        "   \"Streptococcus fecalis,1,1,0.1,positive\\n\",\n",
        "   \"Staphylococcus aureus,0.03,0.03,0.001,positive\\n\",\n",
        "   \"Staphylococcus albus,0.007,0.1,0.001,positive\\n\",\n",
        "   \"Streptococcus hemolyticus,0.001,14,10,positive\\n\",\n",
        "   \"Streptococcus viridans,0.005,10,40,positive\\n\",\n",
        "   \"Diplococcus pneumoniae,0.005,11,10,positive\"\n",
        "]\n",
        "arquivo = open(\"antibioticos.txt\", \"w+\")\n",
        "for linha in dados:\n",
        "  arquivo.write(linha)\n",
        "arquivo.close()\n",
        "arquivo = open(\"antibioticos.txt\", \"r\")\n",
        "for linha in arquivo.readlines():\n",
        "  print(linha)\n",
        "arquivo.close()"
      ],
      "execution_count": null,
      "outputs": [
        {
          "output_type": "stream",
          "text": [
            "Bacteria, Penicillin, Streptomycin, Neomycin, Gram\n",
            "\n",
            "Mycobacterium tuberculosis,800,5,2,negativeSalmonella schottmuelleri,10,0.8,0.09,negative\n",
            "\n",
            "Proteus vulgaris,3,0.1,0.1,negativeKlebsiella pneumoniae,850,1.2,1,negative\n",
            "\n",
            "Brucella abortus,1,2,0.02,negativePseudomonas aeruginosa,850,2,0.4,negative\n",
            "\n",
            "Escherichia coli,100,0.4,0.1,negative\n",
            "\n",
            "Salmonella (Eberthella) typhosa,1,0.4,0.008,negative\n",
            "\n",
            "Aerobacter aerogenes,870,1,1.6,negative\n",
            "\n",
            "Brucella antracis,0.001,0.01,0.007,positive\n",
            "\n",
            "Streptococcus fecalis,1,1,0.1,positive\n",
            "\n",
            "Staphylococcus aureus,0.03,0.03,0.001,positive\n",
            "\n",
            "Staphylococcus albus,0.007,0.1,0.001,positive\n",
            "\n",
            "Streptococcus hemolyticus,0.001,14,10,positive\n",
            "\n",
            "Streptococcus viridans,0.005,10,40,positive\n",
            "\n",
            "Diplococcus pneumoniae,0.005,11,10,positive\n"
          ],
          "name": "stdout"
        }
      ]
    }
  ]
}