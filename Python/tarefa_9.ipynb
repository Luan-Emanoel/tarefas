{
  "nbformat": 4,
  "nbformat_minor": 0,
  "metadata": {
    "colab": {
      "provenance": []
    },
    "kernelspec": {
      "name": "python3",
      "display_name": "Python 3"
    }
  },
  "cells": [
    {
      "cell_type": "code",
      "metadata": {
        "id": "H_eFuK7af8LN"
      },
      "source": [
        "class No:\n",
        "    def __init__( self, valor=None, esquerda=None, direita=None ):\n",
        "        self.valor = valor\n",
        "        self.esquerda = esquerda\n",
        "        self.direita = direita\n",
        "    def __repr__(self):\n",
        "        return '%s <- %s -> %s' % (self.esquerda and self.esquerda.valor, self.valor, self.direita and self.direita.valor)\n"
      ],
      "execution_count": null,
      "outputs": []
    },
    {
      "cell_type": "code",
      "metadata": {
        "colab": {
          "base_uri": "https://localhost:8080/"
        },
        "id": "bhrdZ-aehdZZ",
        "outputId": "13ec1730-3884-47b2-ee49-448e3e3b83cb"
      },
      "source": [
        "buscar = int(input(\"digite o numero para buscar na arvore: \"))\n",
        "presente = False\n",
        "def inserir( raiz, no ):\n",
        "    if raiz is None:\n",
        "        raiz = no\n",
        "    elif  no.valor > raiz.valor: # lado direito\n",
        "        if raiz.direita is None:\n",
        "            raiz.direita = no\n",
        "        else:\n",
        "            inserir( raiz.direita, no )\n",
        "    else: # lado esquerdo\n",
        "        if raiz.esquerda is None:\n",
        "            raiz.esquerda = no\n",
        "        else:\n",
        "            inserir ( raiz.esquerda, no )\n",
        "\n",
        "def hasNumbers(inputString):\n",
        "  return any(char.isdigit() for char in inputString)\n",
        "\n",
        "# testando\n",
        "\n",
        "raiz = No(5)\n",
        "for valor in [1, 3, 7, 9, 4, 5, 2, 8, 6]:\n",
        "    no = No(valor)\n",
        "    inserir(raiz, no)\n",
        "    if str(buscar) in str(No(valor)) or str(buscar) in str(raiz):\n",
        "      presente = True\n",
        "#print(raiz)\n",
        "#print(raiz.esquerda)\n",
        "#print(raiz.direita)\n",
        "\n",
        "\n",
        "if presente == True:\n",
        "  print(f\"o numero {buscar} está na arvore\")\n",
        "else:\n",
        "  print(f\"o numero {buscar} não está na arvore\")\n",
        "#if str(buscar) in valor:\n",
        "#  print(f\"o numero {buscar} está na arvore\")\n",
        "#else:\n",
        "#  print(f\"o numero {buscar} não está na arvore\")\n"
      ],
      "execution_count": null,
      "outputs": [
        {
          "output_type": "stream",
          "text": [
            "digite o numero para buscar na arvore: 15\n",
            "o numero 15 não está na arvore\n"
          ],
          "name": "stdout"
        }
      ]
    }
  ]
}