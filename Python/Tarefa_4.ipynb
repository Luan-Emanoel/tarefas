{
  "nbformat": 4,
  "nbformat_minor": 0,
  "metadata": {
    "colab": {
      "provenance": []
    },
    "kernelspec": {
      "name": "python3",
      "display_name": "Python 3"
    }
  },
  "cells": [
    {
      "cell_type": "code",
      "metadata": {
        "id": "vetADtbyrwO1",
        "outputId": "6567a4f3-e8d6-45c1-9d3a-2ce10526d2a8",
        "colab": {
          "base_uri": "https://localhost:8080/",
          "height": 408
        }
      },
      "source": [
        "#um programa que lê 20 numeros inteiros e armazena em duas listas: Par ou Impar\n",
        "\n",
        "listP = []\n",
        "listI = []\n",
        "holder = []\n",
        "\n",
        "print(\"insira 20 numeros\")\n",
        "for i in range(0, 20):\n",
        "  numero = int(input())\n",
        "  holder.append(numero)\n",
        "\n",
        "for x in holder:\n",
        "\n",
        "  if x % 2 == 0:\n",
        "    listP.append(x)\n",
        "\n",
        "  else:\n",
        "    listI.append(x)\n",
        "\n",
        "print(\"Pares =\", listP, \" \\nImpares =\", listI)"
      ],
      "execution_count": null,
      "outputs": [
        {
          "output_type": "stream",
          "text": [
            "insira 20 numeros\n",
            "1\n",
            "2\n",
            "1\n",
            "4\n",
            "5\n",
            "34234\n",
            "134\n",
            "1231\n",
            "524\n",
            "6\n",
            "656734\n",
            "756785\n",
            "85786\n",
            "96780780\n",
            "7857\n",
            "563453\n",
            "4523\n",
            "34124123\n",
            "134234\n",
            "523453463\n",
            "Pares = [2, 4, 34234, 134, 524, 6, 656734, 85786, 96780780, 134234]  \n",
            "Impares = [1, 1, 5, 1231, 756785, 7857, 563453, 4523, 34124123, 523453463]\n"
          ],
          "name": "stdout"
        }
      ]
    },
    {
      "cell_type": "code",
      "metadata": {
        "id": "jvDPd6-2_B1V",
        "outputId": "be548273-366a-42f1-e77e-48fe80b82f51",
        "colab": {
          "base_uri": "https://localhost:8080/",
          "height": 221
        }
      },
      "source": [
        "#Criar uma lista com numeros inteiros em que o proximo numero é o dobro do anterior\n",
        "imput = int(input(\"digite um numero inteiro: \\n\"))\n",
        "holder = imput\n",
        "while imput < holder * 510:\n",
        "  imput *= 2\n",
        "  print (imput)\n",
        "print(\"fim\")"
      ],
      "execution_count": null,
      "outputs": [
        {
          "output_type": "stream",
          "text": [
            "digite um numero inteiro: \n",
            "1\n",
            "2\n",
            "4\n",
            "8\n",
            "16\n",
            "32\n",
            "64\n",
            "128\n",
            "256\n",
            "512\n",
            "fim\n"
          ],
          "name": "stdout"
        }
      ]
    },
    {
      "cell_type": "code",
      "metadata": {
        "id": "Hho5MRnuJXLK",
        "outputId": "ad354bae-9e52-4050-b8e2-d0f1fa5afb0d",
        "colab": {
          "base_uri": "https://localhost:8080/",
          "height": 102
        }
      },
      "source": [
        "#Um dicionario contendo matricula e nome de 5 estudantes, e só imprimir os valores\n",
        "colegio = [{# Matricula        /// Aluno  #\n",
        "            \"706564726f0d0a0d0a\": \"Pedro\" ,\n",
        "           },{\n",
        "            \"4a6f616f0d0a0d0a\"  : \"João\"  ,\n",
        "           },{\n",
        "            \"466162696f0d0a\"    : \"Fabio\" ,\n",
        "           },{\n",
        "            \"4361726c6f73\"      : \"Carlos\",\n",
        "           },{\n",
        "            \"4c75636173\"        : \"Lucas\" ,\n",
        "           }]\n",
        "for alunos in colegio:\n",
        "  for x in alunos.values():\n",
        "    print(x)"
      ],
      "execution_count": null,
      "outputs": [
        {
          "output_type": "stream",
          "text": [
            "Pedro\n",
            "João\n",
            "Fabio\n",
            "Carlos\n",
            "Lucas\n"
          ],
          "name": "stdout"
        }
      ]
    },
    {
      "cell_type": "code",
      "metadata": {
        "id": "D4UwqruS9CxL",
        "outputId": "a7ca9a75-9510-404b-e804-76fa13ef6068",
        "colab": {
          "base_uri": "https://localhost:8080/",
          "height": 391
        }
      },
      "source": [
        "#Um programa que lê uma enquete e dá resultados formatados\n",
        "voto = ()\n",
        "DepositoL = []\n",
        "\n",
        "while voto != 0:\n",
        "  voto = int(input(\"dê seu voto: \"))\n",
        "  DepositoL.append(voto)\n",
        "\n",
        "fedora = DepositoL.count(1)\n",
        "ubuntu = DepositoL.count(2)\n",
        "mint = DepositoL.count(3)\n",
        "debian = DepositoL.count(4)\n",
        "mandriva = DepositoL.count(5)\n",
        "slackware = DepositoL.count(6)\n",
        "calculo = fedora+ubuntu+mint+debian+mandriva+slackware/100\n",
        "\n",
        "DepositoD = {\n",
        "    \"Fedora\":fedora,\n",
        "    \"Ubuntu\":ubuntu,\n",
        "    \"Mint\":mint,\n",
        "    \"Debian\":debian,\n",
        "    \"Mandriva\":mandriva,\n",
        "    \"Slackware\":slackware\n",
        "}\n",
        "\n",
        "print(\"{:<15}{:^19}{:>18}\".format(\"Distribuição linux\", \"Votos\",\"%\"))\n",
        "print(\"{:<15}{:^18}{:>18}\".format(\"-------------------\",\"-----\",\"---\"))\n",
        "print(\"{:<15}{:^24}{:>15}%\".format(\"Fedora\", (fedora), int((fedora/calculo)*100)))\n",
        "print(\"{:<15}{:^24}{:>15}%\".format(\"Ubuntu\", (ubuntu), int((ubuntu/calculo)*100)))\n",
        "print(\"{:<15}{:^24}{:>15}%\".format(\"Mint\", (mint), int((mint/calculo)*100)))\n",
        "print(\"{:<15}{:^24}{:>15}%\".format(\"Debian\", (debian),  int((debian/calculo)*100)))\n",
        "print(\"{:<15}{:^24}{:>15}%\".format(\"Mandriva\", (mandriva), int((mandriva/calculo)*100)))\n",
        "print(\"{:<15}{:^24}{:>15}%\".format(\"Slackware\", (slackware), int((slackware/calculo)*100)))\n",
        "print(\"{:<15}{:^18}{:>18}\".format(\"-------------------\",\"-----\",\"---\"))\n",
        "print(\"{:<15}{:^24}\".format(\"Total\", fedora+ubuntu+mint+debian+mandriva+slackware))\n",
        "print(\"O sistema operacional mais votado foi {} com {} votos, correspondendo a {}% dos votos\".format(max(DepositoD, key=DepositoD.get), max([i for i in DepositoD.values()]),int((max([i for i in DepositoD.values()])/calculo)* 100)))"
      ],
      "execution_count": null,
      "outputs": [
        {
          "output_type": "stream",
          "text": [
            "dê seu voto: 5\n",
            "dê seu voto: 4\n",
            "dê seu voto: 3\n",
            "dê seu voto: 4\n",
            "dê seu voto: 3\n",
            "dê seu voto: 1\n",
            "dê seu voto: 2\n",
            "dê seu voto: 6\n",
            "dê seu voto: 5\n",
            "dê seu voto: 5\n",
            "dê seu voto: 0\n",
            "Distribuição linux       Votos                        %\n",
            "-------------------      -----                      ---\n",
            "Fedora                    1                         11%\n",
            "Ubuntu                    1                         11%\n",
            "Mint                      2                         22%\n",
            "Debian                    2                         22%\n",
            "Mandriva                  3                         33%\n",
            "Slackware                 1                         11%\n",
            "-------------------      -----                      ---\n",
            "Total                     10           \n",
            "O sistema operacional mais votado foi Mandriva com 3 votos, correspondendo a 33% dos votos\n"
          ],
          "name": "stdout"
        }
      ]
    }
  ]
}