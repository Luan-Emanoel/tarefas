{
  "nbformat": 4,
  "nbformat_minor": 0,
  "metadata": {
    "colab": {
      "provenance": []
    },
    "kernelspec": {
      "name": "python3",
      "display_name": "Python 3"
    }
  },
  "cells": [
    {
      "cell_type": "code",
      "metadata": {
        "id": "_SsJWemEFleW"
      },
      "source": [
        "#(pvq) ^ (~p) -> q\n",
        "def implies(a,b):\n",
        "    if a:\n",
        "        return b\n",
        "    else:\n",
        "      return True\n",
        "\n",
        "for p in (True, False):\n",
        "    for q in (True, False):\n",
        "        print(\"%10s %10s %s\" %(p,q,implies((p or q) and (not p), q)))"
      ],
      "execution_count": null,
      "outputs": []
    },
    {
      "cell_type": "code",
      "metadata": {
        "id": "6326Qtr-50g3"
      },
      "source": [
        "#(p ∧(¬(¬p ∨q)) ∨(p ∧q)) →r^s\n",
        "def se_entao(a, b): # função que imita o sim então\n",
        "  if a:\n",
        "    return b\n",
        "  else:\n",
        "    return True\n",
        "def calculo(a, b, c, d, lista): #função que calcula a expressão pedida\n",
        "  for x in [se_entao(p and (not ((not p) or q)) or (p and q), (r and s))]:\n",
        "      lista.append(x)\n",
        "\n",
        "#variaveis para função e resultado final\n",
        "w = [True, False]\n",
        "x = [True, False]\n",
        "y = [True, False]\n",
        "z = [True, False]\n",
        "resultados = []\n",
        "resposta = \"é uma tautologia\"\n",
        "\n",
        "#loop que decide os resultados\n",
        "for p in (True, False):\n",
        "  for q in (True, False):\n",
        "    for r in (True, False):\n",
        "      for s in (True, False):\n",
        "        for x in [calculo(w, x, y, z, resultados)]:\n",
        "#print para verificar todos as possibilidades\n",
        "          print(\"%10s %10s %10s %10s = %5s\" %(p, q, r, s, se_entao(p and (not ((not p) or q)) or (p and q), (r and s))))\n",
        "          pass\n",
        "\n",
        "#loop que verifica se tem algum resultado falso, se tiver a expressão não será considerada umam tautologia\n",
        "for x in resultados:\n",
        "  if x == False:\n",
        "    resposta = \"não é uma tautologia\"\n",
        "  else:\n",
        "    pass\n",
        "\n",
        "#resultado final\n",
        "print(resposta)"
      ],
      "execution_count": null,
      "outputs": []
    },
    {
      "cell_type": "code",
      "metadata": {
        "id": "fFxAOF3ekpJs",
        "outputId": "7dbe15d3-4264-48e5-f3e1-2360a876efa7",
        "colab": {
          "base_uri": "https://localhost:8080/"
        }
      },
      "source": [
        "#(s→ (p ^ ¬r)) ^((p →(r v q)) ^ s)\n",
        "def se_entao(a,b):\n",
        "    if a:\n",
        "        return b\n",
        "    else:\n",
        "      return True\n",
        "\n",
        "for p in (True, False):\n",
        "    for q in (True, False):\n",
        "      for r in (True, False):\n",
        "        for s in (True, False):\n",
        "          print(\"%10s %10s %10s %10s %s\" %(p,q, r, s,se_entao(s, (p and not r)) and (se_entao(p, r or q)) and s))"
      ],
      "execution_count": null,
      "outputs": [
        {
          "output_type": "stream",
          "text": [
            "      True       True       True       True False\n",
            "      True       True       True      False False\n",
            "      True       True      False       True True\n",
            "      True       True      False      False False\n",
            "      True      False       True       True False\n",
            "      True      False       True      False False\n",
            "      True      False      False       True False\n",
            "      True      False      False      False False\n",
            "     False       True       True       True False\n",
            "     False       True       True      False False\n",
            "     False       True      False       True False\n",
            "     False       True      False      False False\n",
            "     False      False       True       True False\n",
            "     False      False       True      False False\n",
            "     False      False      False       True False\n",
            "     False      False      False      False False\n"
          ],
          "name": "stdout"
        }
      ]
    }
  ]
}