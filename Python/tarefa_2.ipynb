{
  "nbformat": 4,
  "nbformat_minor": 0,
  "metadata": {
    "colab": {
      "provenance": []
    },
    "kernelspec": {
      "name": "python3",
      "display_name": "Python 3"
    }
  },
  "cells": [
    {
      "cell_type": "code",
      "metadata": {
        "id": "RUJAghlKXi5i"
      },
      "source": [
        "#um Programa que peça um valor e mostre na tela se o valor é positivo ou negativo.\n",
        "numero = float(input(\"digite seu numero: \"))\n",
        "if numero > 0:\n",
        "  print(\"seu numero é positivo\")\n",
        "elif numero < 0:\n",
        "    print(\"seu numero é negativo\")\n",
        "else:\n",
        "    print(\"seu numero é zero\")"
      ],
      "execution_count": null,
      "outputs": []
    },
    {
      "cell_type": "code",
      "metadata": {
        "id": "Tj2xZYXsaVOH",
        "outputId": "35e519ca-17d3-4ce9-baf2-2cd7090f53bb",
        "colab": {
          "base_uri": "https://localhost:8080/"
        }
      },
      "source": [
        "#um programa que verifique se uma letra digitada é uma vogal ou consoante\n",
        "imput = str(input(\"digite a sua letra: \"))\n",
        "vogais = [\"a\",\"e\",\"i\",\"o\",\"u\"]\n",
        "vogais = [\"A\",\"E\",\"I\",\"O\",\"U\"]\n",
        "\n",
        "consoantes = [\"b\",\"c\",\"d\",\"f\",\"g\",\"h\",\"j\",\"k\",\"l\",\"m\",\"n\",\"p\",\"q\",\"r\",\"s\",\"t\",\"v\",\"w\",\"x\",\"y\",\"z\"]\n",
        "consoantes = [\"B\",\"C\",\"D\",\"F\",\"G\",\"H\",\"J\",\"K\",\"L\",\"M\",\"N\",\"P\",\"Q\",\"R\",\"S\",\"T\",\"U\",\"V\",\"W\",\"X\",\"Y\",\"Z\"]\n",
        "\n",
        "if imput in vogais:\n",
        "  print(\"sua letra é uma vogal\")\n",
        "elif imput in consoantes:\n",
        "  print(\"sua letra é uma consoante\")\n",
        "else:\n",
        "  print(\"\\\"%s\\\" não é uma letra ou uma consoante\" % imput)"
      ],
      "execution_count": null,
      "outputs": [
        {
          "output_type": "stream",
          "name": "stdout",
          "text": [
            "digite a sua letra: f\n",
            "\"f\" não é uma letra ou uma consoante\n"
          ]
        }
      ]
    },
    {
      "cell_type": "code",
      "metadata": {
        "id": "0TaYv-xdjgKd",
        "outputId": "ac9fae82-56db-4089-9729-fc15599ae650",
        "colab": {
          "base_uri": "https://localhost:8080/",
          "height": 204
        }
      },
      "source": [
        "#um programa para calculo de uma folha de pagamento\n",
        "valor_hora = float(input(\"quanto é o valor da sua hora? \\nR$\"))\n",
        "horas_trabalhadas = float(input(\"quantas horas trabalha? \\n\"))\n",
        "salario_bruto = valor_hora*horas_trabalhadas\n",
        "sindicato = salario_bruto*0.03\n",
        "desconto_imposto = 0\n",
        "valor_desconto = 0\n",
        "inss = salario_bruto*0.1\n",
        "fgts = salario_bruto*0.11\n",
        "\n",
        "if  salario_bruto <= 900:\n",
        "  valor_desconto = \"0%\"\n",
        "elif 900 < salario_bruto <= 1500:\n",
        "  desconto_imposto = salario_bruto*0.05\n",
        "  valor_desconto = \"5%\"\n",
        "elif 1500 < salario_bruto <= 2500:\n",
        "  desconto_imposto = salario_bruto*0.1\n",
        "  valor_desconto = \"10%\"\n",
        "else:\n",
        "  desconto_imposto = salario_bruto*0.20\n",
        "  valor_desconto = \"20%\"\n",
        "\n",
        "total_descontos = (sindicato)+(desconto_imposto)+(inss)+(fgts)\n",
        "salario_liquido = salario_bruto-(total_descontos-fgts)\n",
        "\n",
        "print(\"Salario Bruto: (%.2f*%.2f) \\t : R$ %.2f \\n(-) Sindicato(3%%) \\t : R$ %.2f \\n(-) IR(%s) \\t : R$ %.2f \\n(-) INSS (10%%) \\t : R$ %.02f \\nFGTS (11%%) \\t : R$ %.2f \\nsalário Liquido \\t : R$ %.2f \\nTotal de descontos \\t : R$ %.2f \"\n",
        "   % ( valor_hora, horas_trabalhadas, salario_bruto, sindicato, valor_desconto, desconto_imposto, inss, fgts, salario_liquido, total_descontos))"
      ],
      "execution_count": null,
      "outputs": [
        {
          "output_type": "stream",
          "text": [
            "quanto é o valor da sua hora? \n",
            "R$5\n",
            "quantas horas trabalha? \n",
            "220\n",
            "Salario Bruto: (5.00*220.00) \t : R$ 1100.00 \n",
            "(-) Sindicato(3%) \t : R$ 33.00 \n",
            "(-) IR(5%) \t : R$ 55.00 \n",
            "(-) INSS (10%) \t : R$ 110.00 \n",
            "FGTS (11%) \t : R$ 121.00 \n",
            "salário Liquido \t : R$ 902.00 \n",
            "Total de descontos \t : R$ 319.00 \n"
          ],
          "name": "stdout"
        }
      ]
    }
  ]
}