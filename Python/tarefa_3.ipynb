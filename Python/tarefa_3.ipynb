{
  "nbformat": 4,
  "nbformat_minor": 0,
  "metadata": {
    "colab": {
      "provenance": []
    },
    "kernelspec": {
      "name": "python3",
      "display_name": "Python 3"
    }
  },
  "cells": [
    {
      "cell_type": "code",
      "metadata": {
        "id": "A0gOtT2aRFCC"
      },
      "source": [
        "#um programa com uma função que recebe e soma 3 argumentos\n",
        "def soma():\n",
        "  return float(input(\"de o valor da variavel:\\n\"))\n",
        "x = soma()\n",
        "y = soma()\n",
        "z = soma()\n",
        "print(\"soma = {}\".format(x+y+z))"
      ],
      "execution_count": null,
      "outputs": []
    },
    {
      "cell_type": "code",
      "metadata": {
        "id": "sbgRLzh3acTC",
        "outputId": "9dabd23f-570c-4bf9-a0a9-922db6f3f68f",
        "colab": {
          "base_uri": "https://localhost:8080/",
          "height": 217
        }
      },
      "source": [
        "# um programa que desenha um triangulo\n",
        "def retangulo():\n",
        "  return int(input(\"digite o valor pedido \"))\n",
        "\n",
        "print(\"digite o valor das linhas: \")\n",
        "numero_de_linhas = retangulo()\n",
        "print(\"digite o valor das colunas: \")\n",
        "numero_de_colunas = retangulo()\n",
        "\n",
        "if 2<= numero_de_linhas <= 10 and 2 <= numero_de_colunas <= 10:\n",
        "  print(\"+\" + \"-\" * (numero_de_linhas) + \"+\")\n",
        "\n",
        "  for _ in range(numero_de_colunas):\n",
        "    print('|' + ' ' * (numero_de_linhas) + '|')\n",
        "\n",
        "  print((\"+\" + \"-\" * (numero_de_linhas) + \"+\"))\n",
        "\n",
        "else:\n",
        "  print(\"não é um retangulo\")"
      ],
      "execution_count": null,
      "outputs": [
        {
          "output_type": "stream",
          "text": [
            "digite o valor das linhas: \n",
            "digite o valor pedido 10\n",
            "digite o valor das colunas: \n",
            "digite o valor pedido 5\n",
            "+----------+\n",
            "|          |\n",
            "|          |\n",
            "|          |\n",
            "|          |\n",
            "|          |\n",
            "+----------+\n"
          ],
          "name": "stdout"
        }
      ]
    },
    {
      "cell_type": "code",
      "metadata": {
        "id": "uEL8g9A478up"
      },
      "source": [
        "#um programa com uma função calculadora de juros compostos\n",
        "def juros(valor_financiado,taxa,tempo):\n",
        "  valor_futuro = valor_financiado*(1+taxa)**tempo\n",
        "  return valor_futuro\n",
        "\n",
        "valor_financiado = float(input(\"digite o valor financiado:\\n\"))\n",
        "tempo = float(input(\"digite o tempo em meses:\\n\"))\n",
        "taxa = float(input(\"digite a taxa em decimais:\\n\"))\n",
        "tempo1 = tempo\n",
        "contador = 1\n",
        "\n",
        "print(\"o seu montante por mes será:\")\n",
        "while contador != tempo+1:\n",
        "  print(\"%.2f\" % juros(valor_financiado, taxa, contador))\n",
        "  contador = contador + 1"
      ],
      "execution_count": null,
      "outputs": []
    }
  ]
}