{
  "nbformat": 4,
  "nbformat_minor": 0,
  "metadata": {
    "colab": {
      "provenance": []
    },
    "kernelspec": {
      "name": "python3",
      "display_name": "Python 3"
    }
  },
  "cells": [
    {
      "cell_type": "code",
      "metadata": {
        "id": "ZE68-yq_92D1",
        "outputId": "389b0cdf-97b6-457d-fd9a-7eaee0710314",
        "colab": {
          "base_uri": "https://localhost:8080/"
        }
      },
      "source": [
        "#uma função em Python que verifique se a expressão \"(p ∧(¬(¬p ∨q)) ∨(p ∧q)) →r^s\" é uma taulogia\n",
        "def se_entao(a, b): # função que imita o sim então\n",
        "  if a:\n",
        "    return b\n",
        "  else:\n",
        "    return True\n",
        "def calculo(a, b, c, d, lista): #função que calcula a expressão pedida\n",
        "  for x in [se_entao(p and (not ((not p) or q)) or (p and q), (r and s))]:\n",
        "      lista.append(x)\n",
        "\n",
        "#variaveis para função e resultado final\n",
        "w = [True, False]\n",
        "x = [True, False]\n",
        "y = [True, False]\n",
        "z = [True, False]\n",
        "resultados = []\n",
        "resposta = True\n",
        "\n",
        "#loop que decide os resultados\n",
        "for p in (True, False):\n",
        "  for q in (True, False):\n",
        "    for r in (True, False):\n",
        "      for s in (True, False):\n",
        "        for x in [calculo(w, x, y, z, resultados)]:\n",
        "#print para verificar todos as possibilidades\n",
        "#          print(\"%10s %10s %10s %10s = %5s\" %(p, q, r, s, se_entao(p and (not ((not p) or q)) or (p and q), (r and s))))\n",
        "          pass\n",
        "\n",
        "#loop que verifica se tem algum resultado falso, se tiver a expressão não será considerada umam tautologia\n",
        "for x in resultados:\n",
        "  if x == False:\n",
        "    resposta = False\n",
        "  else:\n",
        "    pass\n",
        "\n",
        "#resultado final\n",
        "print(resposta)"
      ],
      "execution_count": null,
      "outputs": [
        {
          "output_type": "stream",
          "text": [
            "False\n"
          ],
          "name": "stdout"
        }
      ]
    },
    {
      "cell_type": "code",
      "metadata": {
        "id": "NGIV_jc_u9AP",
        "outputId": "6c9c2b12-1998-4a3e-a023-41f93a57ed68",
        "colab": {
          "base_uri": "https://localhost:8080/"
        }
      },
      "source": [
        "#uma função que pega valores para matriz\n",
        "def construtor_de_matriz():\n",
        "  valores = 0\n",
        "  matriz = []\n",
        "  matriz_final = []\n",
        "  linhas = int(input(\"digite a quantidade de linhas: \"))\n",
        "  colunas = int(input(\"digite a quantidade de colunas: \"))\n",
        "  while len(matriz_final) < colunas:\n",
        "    while len(matriz) < linhas:\n",
        "      x = int(input(\"digite um valor dessa linha: \"))\n",
        "      matriz.append(x)\n",
        "    print(\"linha finalizada\")\n",
        "    matriz_final.append(matriz.copy())\n",
        "    matriz.clear()\n",
        "  return matriz_final\n",
        "\n",
        "#guarda a matriz em um arquivo\n",
        "def guardar_matriz_resultante(matriz, nome_do_arquivo):\n",
        "  resultante = open(nome_do_arquivo, \"w+\")\n",
        "  for x in matriz:\n",
        "    resultante.writelines(str(x) + \"\\t\")\n",
        "  resultante.close()\n",
        "  return resultante\n",
        "\n",
        "#abre o arquivo\n",
        "def abrir_matriz_resultante(arquivo, nome_do_arquivo):\n",
        "  arquivo = open(nome_do_arquivo, \"r\")\n",
        "  for x in arquivo.readlines():\n",
        "    print(x)\n",
        "  arquivo.close()\n",
        "\n",
        "#primeira matriz sendo construida\n",
        "print(\"construindo a primeira matriz\")\n",
        "#matriz1 = [[2, 5, 9], [3, 6, 8]] #matriz do exemplo\n",
        "matriz1 = construtor_de_matriz()\n",
        "\n",
        "print(\"a primeira matriz é igual a:\")\n",
        "for x in matriz1:\n",
        "  print(x)\n",
        "\n",
        "#segunda matriz sendo construida\n",
        "print(\"construindo a segunda matriz\")\n",
        "#matriz2 = [[2, 7], [4, 3], [5, 2]] #matriz do exemplo\n",
        "matriz2 = construtor_de_matriz()\n",
        "\n",
        "print(\"a segunda matriz é igual a:\")\n",
        "for x in matriz2:\n",
        "  print(x)\n",
        "\n",
        "calculo = [[sum(a*b for a,b in zip(matriz1_linha,matriz2_coluna)) for matriz2_coluna in zip(*matriz2)] for matriz1_linha in matriz1] #calculo para multiplicação de matrizes\n",
        "\n",
        "guardar_matriz = guardar_matriz_resultante(calculo, \"matriz.txt\")\n",
        "print(\"O resultado é: \")\n",
        "abrir_matriz = abrir_matriz_resultante(guardar_matriz, \"matriz.txt\")"
      ],
      "execution_count": null,
      "outputs": [
        {
          "output_type": "stream",
          "text": [
            "construindo a primeira matriz\n",
            "a primeira matriz é igual a:\n",
            "[2, 5, 9]\n",
            "[3, 6, 8]\n",
            "construindo a segunda matriz\n",
            "a segunda matriz é igual a:\n",
            "[2, 7]\n",
            "[4, 3]\n",
            "[5, 2]\n",
            "O resultado é: \n",
            "[69, 47]\t[70, 55]\t\n"
          ],
          "name": "stdout"
        }
      ]
    }
  ]
}